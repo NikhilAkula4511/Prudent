{
 "cells": [
  {
   "cell_type": "markdown",
   "id": "e2877fe9-0948-458a-b261-88e217ac90b9",
   "metadata": {},
   "source": [
    "### 3.2 Problem Statement\n",
    "\n",
    "    Build a sentiment analysis model to analyze customer reviews and feedback for a hospitality company. The model should be able to classify reviews as positive, negative, or neutral, and identify key topics or areas of concern.\n",
    "\n",
    "    Sample Dataset\n",
    "\n",
    "    https://www.kaggle.com/datasets/andrewmvd/trip-advisor-hotel-reviews\n",
    "\n",
    "    Two PPT slides or a two-pager document outlining the solution approach. Model selection (e.g., time series models, regression, ensemble methods)\n",
    "\n",
    "    Solution architecture (e.g., cloud-based deployment, on-premises deployment) Short video or screenshot demonstrating the model's output.\n",
    "\n",
    "    Source code and deployment steps."
   ]
  },
  {
   "cell_type": "markdown",
   "id": "464b208d-64ab-4116-9d99-a7bb02ff0d6d",
   "metadata": {},
   "source": [
    "### Load Data"
   ]
  },
  {
   "cell_type": "code",
   "execution_count": 5,
   "id": "002da3ab-f1b1-4180-bf64-e05e2adb42a7",
   "metadata": {},
   "outputs": [],
   "source": [
    "#import the libraries to handle the DataFrame\n",
    "import numpy as np\n",
    "import pandas as pd\n",
    "import warnings \n",
    "warnings.filterwarnings(\"ignore\") #Ignore the warnings it is deprecated"
   ]
  },
  {
   "cell_type": "code",
   "execution_count": 6,
   "id": "f12f7abc-8fba-48c1-a2eb-42abc364aea3",
   "metadata": {},
   "outputs": [],
   "source": [
    "#loading the Dataset\n",
    "df = pd.read_csv(r\"C:\\Users\\Hello\\Prudent technologies\\tripadvisor_hotel_reviews.csv\")"
   ]
  },
  {
   "cell_type": "code",
   "execution_count": 7,
   "id": "c548f813-4a11-441f-8fe5-b1750e58b2d0",
   "metadata": {},
   "outputs": [
    {
     "data": {
      "text/html": [
       "<div>\n",
       "<style scoped>\n",
       "    .dataframe tbody tr th:only-of-type {\n",
       "        vertical-align: middle;\n",
       "    }\n",
       "\n",
       "    .dataframe tbody tr th {\n",
       "        vertical-align: top;\n",
       "    }\n",
       "\n",
       "    .dataframe thead th {\n",
       "        text-align: right;\n",
       "    }\n",
       "</style>\n",
       "<table border=\"1\" class=\"dataframe\">\n",
       "  <thead>\n",
       "    <tr style=\"text-align: right;\">\n",
       "      <th></th>\n",
       "      <th>Review</th>\n",
       "      <th>Rating</th>\n",
       "    </tr>\n",
       "  </thead>\n",
       "  <tbody>\n",
       "    <tr>\n",
       "      <th>0</th>\n",
       "      <td>nice hotel expensive parking got good deal sta...</td>\n",
       "      <td>4</td>\n",
       "    </tr>\n",
       "    <tr>\n",
       "      <th>1</th>\n",
       "      <td>ok nothing special charge diamond member hilto...</td>\n",
       "      <td>2</td>\n",
       "    </tr>\n",
       "    <tr>\n",
       "      <th>2</th>\n",
       "      <td>nice rooms not 4* experience hotel monaco seat...</td>\n",
       "      <td>3</td>\n",
       "    </tr>\n",
       "    <tr>\n",
       "      <th>3</th>\n",
       "      <td>unique, great stay, wonderful time hotel monac...</td>\n",
       "      <td>5</td>\n",
       "    </tr>\n",
       "    <tr>\n",
       "      <th>4</th>\n",
       "      <td>great stay great stay, went seahawk game aweso...</td>\n",
       "      <td>5</td>\n",
       "    </tr>\n",
       "    <tr>\n",
       "      <th>...</th>\n",
       "      <td>...</td>\n",
       "      <td>...</td>\n",
       "    </tr>\n",
       "    <tr>\n",
       "      <th>20486</th>\n",
       "      <td>best kept secret 3rd time staying charm, not 5...</td>\n",
       "      <td>5</td>\n",
       "    </tr>\n",
       "    <tr>\n",
       "      <th>20487</th>\n",
       "      <td>great location price view hotel great quick pl...</td>\n",
       "      <td>4</td>\n",
       "    </tr>\n",
       "    <tr>\n",
       "      <th>20488</th>\n",
       "      <td>ok just looks nice modern outside, desk staff ...</td>\n",
       "      <td>2</td>\n",
       "    </tr>\n",
       "    <tr>\n",
       "      <th>20489</th>\n",
       "      <td>hotel theft ruined vacation hotel opened sept ...</td>\n",
       "      <td>1</td>\n",
       "    </tr>\n",
       "    <tr>\n",
       "      <th>20490</th>\n",
       "      <td>people talking, ca n't believe excellent ratin...</td>\n",
       "      <td>2</td>\n",
       "    </tr>\n",
       "  </tbody>\n",
       "</table>\n",
       "<p>20491 rows × 2 columns</p>\n",
       "</div>"
      ],
      "text/plain": [
       "                                                  Review  Rating\n",
       "0      nice hotel expensive parking got good deal sta...       4\n",
       "1      ok nothing special charge diamond member hilto...       2\n",
       "2      nice rooms not 4* experience hotel monaco seat...       3\n",
       "3      unique, great stay, wonderful time hotel monac...       5\n",
       "4      great stay great stay, went seahawk game aweso...       5\n",
       "...                                                  ...     ...\n",
       "20486  best kept secret 3rd time staying charm, not 5...       5\n",
       "20487  great location price view hotel great quick pl...       4\n",
       "20488  ok just looks nice modern outside, desk staff ...       2\n",
       "20489  hotel theft ruined vacation hotel opened sept ...       1\n",
       "20490  people talking, ca n't believe excellent ratin...       2\n",
       "\n",
       "[20491 rows x 2 columns]"
      ]
     },
     "execution_count": 7,
     "metadata": {},
     "output_type": "execute_result"
    }
   ],
   "source": [
    "df #To display the dataframe"
   ]
  },
  {
   "cell_type": "markdown",
   "id": "916787ba-8523-424b-a66e-389072d3ba80",
   "metadata": {},
   "source": [
    "### Exploratory Data Analysis"
   ]
  },
  {
   "cell_type": "code",
   "execution_count": 8,
   "id": "73d0d0fa-1e67-482b-95c9-02a4756a921b",
   "metadata": {},
   "outputs": [
    {
     "name": "stdout",
     "output_type": "stream",
     "text": [
      "<class 'pandas.core.frame.DataFrame'>\n",
      "RangeIndex: 20491 entries, 0 to 20490\n",
      "Data columns (total 2 columns):\n",
      " #   Column  Non-Null Count  Dtype \n",
      "---  ------  --------------  ----- \n",
      " 0   Review  20491 non-null  object\n",
      " 1   Rating  20491 non-null  int64 \n",
      "dtypes: int64(1), object(1)\n",
      "memory usage: 320.3+ KB\n"
     ]
    }
   ],
   "source": [
    "#df.info shows the data types of columns ,memory usage and no of rows and No of non null values in each row \n",
    "df.info()"
   ]
  },
  {
   "cell_type": "code",
   "execution_count": 9,
   "id": "85ccf1eb-38a9-44ab-85c0-bb2e4483d7c4",
   "metadata": {},
   "outputs": [
    {
     "data": {
      "text/html": [
       "<div>\n",
       "<style scoped>\n",
       "    .dataframe tbody tr th:only-of-type {\n",
       "        vertical-align: middle;\n",
       "    }\n",
       "\n",
       "    .dataframe tbody tr th {\n",
       "        vertical-align: top;\n",
       "    }\n",
       "\n",
       "    .dataframe thead th {\n",
       "        text-align: right;\n",
       "    }\n",
       "</style>\n",
       "<table border=\"1\" class=\"dataframe\">\n",
       "  <thead>\n",
       "    <tr style=\"text-align: right;\">\n",
       "      <th></th>\n",
       "      <th>Rating</th>\n",
       "    </tr>\n",
       "  </thead>\n",
       "  <tbody>\n",
       "    <tr>\n",
       "      <th>count</th>\n",
       "      <td>20491.000000</td>\n",
       "    </tr>\n",
       "    <tr>\n",
       "      <th>mean</th>\n",
       "      <td>3.952223</td>\n",
       "    </tr>\n",
       "    <tr>\n",
       "      <th>std</th>\n",
       "      <td>1.233030</td>\n",
       "    </tr>\n",
       "    <tr>\n",
       "      <th>min</th>\n",
       "      <td>1.000000</td>\n",
       "    </tr>\n",
       "    <tr>\n",
       "      <th>25%</th>\n",
       "      <td>3.000000</td>\n",
       "    </tr>\n",
       "    <tr>\n",
       "      <th>50%</th>\n",
       "      <td>4.000000</td>\n",
       "    </tr>\n",
       "    <tr>\n",
       "      <th>75%</th>\n",
       "      <td>5.000000</td>\n",
       "    </tr>\n",
       "    <tr>\n",
       "      <th>max</th>\n",
       "      <td>5.000000</td>\n",
       "    </tr>\n",
       "  </tbody>\n",
       "</table>\n",
       "</div>"
      ],
      "text/plain": [
       "             Rating\n",
       "count  20491.000000\n",
       "mean       3.952223\n",
       "std        1.233030\n",
       "min        1.000000\n",
       "25%        3.000000\n",
       "50%        4.000000\n",
       "75%        5.000000\n",
       "max        5.000000"
      ]
     },
     "execution_count": 9,
     "metadata": {},
     "output_type": "execute_result"
    }
   ],
   "source": [
    "#df.describe shows statistical analysis of numerical data if you want object analysis include=\"object\" it shows\n",
    "#statistical analysis of object column\n",
    "df.describe()"
   ]
  },
  {
   "cell_type": "code",
   "execution_count": 10,
   "id": "f59950f4-9221-4a92-8b14-68d55240534a",
   "metadata": {},
   "outputs": [
    {
     "data": {
      "text/plain": [
       "Review    0\n",
       "Rating    0\n",
       "dtype: int64"
      ]
     },
     "execution_count": 10,
     "metadata": {},
     "output_type": "execute_result"
    }
   ],
   "source": [
    "#No of null values in each column\n",
    "df.isna().sum()"
   ]
  },
  {
   "cell_type": "code",
   "execution_count": 11,
   "id": "2446db2e-6301-4f97-a661-5e2106b9c089",
   "metadata": {},
   "outputs": [
    {
     "data": {
      "text/plain": [
       "5    9054\n",
       "4    6039\n",
       "3    2184\n",
       "2    1793\n",
       "1    1421\n",
       "Name: Rating, dtype: int64"
      ]
     },
     "execution_count": 11,
     "metadata": {},
     "output_type": "execute_result"
    }
   ],
   "source": [
    "#statistical analysis of Rating Column to know how many times a unique value repeated\n",
    "df.Rating.value_counts()"
   ]
  },
  {
   "cell_type": "code",
   "execution_count": 12,
   "id": "c1eb7037-678c-4ac3-a0d8-d078e412e7a0",
   "metadata": {},
   "outputs": [
    {
     "data": {
      "text/plain": [
       "5    0.441853\n",
       "4    0.294715\n",
       "3    0.106583\n",
       "2    0.087502\n",
       "1    0.069348\n",
       "Name: Rating, dtype: float64"
      ]
     },
     "execution_count": 12,
     "metadata": {},
     "output_type": "execute_result"
    }
   ],
   "source": [
    "#statistical analysis of Rating Column to know how percentage of a unique value repeated\n",
    "df.Rating.value_counts(normalize=True)"
   ]
  },
  {
   "cell_type": "code",
   "execution_count": 13,
   "id": "7ec46bbd-c05a-4019-85d5-4e4874689105",
   "metadata": {},
   "outputs": [
    {
     "data": {
      "image/png": "[encoded data removed]",
      "text/plain": [
       "<Figure size 500x500 with 1 Axes>"
      ]
     },
     "metadata": {},
     "output_type": "display_data"
    }
   ],
   "source": [
    "#Pie plot gives the How rating column distributed\n",
    "import matplotlib.pyplot as plt\n",
    "ratin_count = df.Rating.value_counts()\n",
    "plt.figure(figsize=(5,5))\n",
    "plt.pie(x=ratin_count,labels=ratin_count.index,autopct=\"%1.2f%%\",shadow=True)\n",
    "plt.title(\"Distribution of ratings\")\n",
    "plt.show()"
   ]
  },
  {
   "cell_type": "code",
   "execution_count": 14,
   "id": "e8092bae-4bb1-4eee-a300-de8c5a4468bc",
   "metadata": {},
   "outputs": [
    {
     "data": {
      "image/png": "[encoded data removed]",
      "text/plain": [
       "<Figure size 640x480 with 1 Axes>"
      ]
     },
     "metadata": {},
     "output_type": "display_data"
    }
   ],
   "source": [
    "#Bar plot shows the range of each rating\n",
    "import seaborn as sns\n",
    "sns.countplot(data=df,x=df.Rating)\n",
    "plt.title(\"Range of Each  Rating\")\n",
    "plt.ylabel(\"Range of Rating\")\n",
    "plt.show()"
   ]
  },
  {
   "cell_type": "code",
   "execution_count": 15,
   "id": "b406c4df-a4d2-499f-b1e7-9d6345c26f6f",
   "metadata": {},
   "outputs": [],
   "source": [
    "#to replace the 1,2 as negative , 3 as neutral and 4,5 as Positive\n",
    "df.Rating = df.Rating.replace(3,\"Neutral\")\n",
    "df.Rating = df.Rating.replace([1,2],\"Negative\")\n",
    "df.Rating = df.Rating.replace([4,5],\"Positive\")"
   ]
  },
  {
   "cell_type": "code",
   "execution_count": 16,
   "id": "8f524247-44c7-49c7-b6ba-4895cf96677d",
   "metadata": {},
   "outputs": [
    {
     "data": {
      "text/html": [
       "<div>\n",
       "<style scoped>\n",
       "    .dataframe tbody tr th:only-of-type {\n",
       "        vertical-align: middle;\n",
       "    }\n",
       "\n",
       "    .dataframe tbody tr th {\n",
       "        vertical-align: top;\n",
       "    }\n",
       "\n",
       "    .dataframe thead th {\n",
       "        text-align: right;\n",
       "    }\n",
       "</style>\n",
       "<table border=\"1\" class=\"dataframe\">\n",
       "  <thead>\n",
       "    <tr style=\"text-align: right;\">\n",
       "      <th></th>\n",
       "      <th>Review</th>\n",
       "      <th>Rating</th>\n",
       "    </tr>\n",
       "  </thead>\n",
       "  <tbody>\n",
       "    <tr>\n",
       "      <th>0</th>\n",
       "      <td>nice hotel expensive parking got good deal sta...</td>\n",
       "      <td>Positive</td>\n",
       "    </tr>\n",
       "    <tr>\n",
       "      <th>1</th>\n",
       "      <td>ok nothing special charge diamond member hilto...</td>\n",
       "      <td>Negative</td>\n",
       "    </tr>\n",
       "    <tr>\n",
       "      <th>2</th>\n",
       "      <td>nice rooms not 4* experience hotel monaco seat...</td>\n",
       "      <td>Neutral</td>\n",
       "    </tr>\n",
       "    <tr>\n",
       "      <th>3</th>\n",
       "      <td>unique, great stay, wonderful time hotel monac...</td>\n",
       "      <td>Positive</td>\n",
       "    </tr>\n",
       "    <tr>\n",
       "      <th>4</th>\n",
       "      <td>great stay great stay, went seahawk game aweso...</td>\n",
       "      <td>Positive</td>\n",
       "    </tr>\n",
       "    <tr>\n",
       "      <th>...</th>\n",
       "      <td>...</td>\n",
       "      <td>...</td>\n",
       "    </tr>\n",
       "    <tr>\n",
       "      <th>20486</th>\n",
       "      <td>best kept secret 3rd time staying charm, not 5...</td>\n",
       "      <td>Positive</td>\n",
       "    </tr>\n",
       "    <tr>\n",
       "      <th>20487</th>\n",
       "      <td>great location price view hotel great quick pl...</td>\n",
       "      <td>Positive</td>\n",
       "    </tr>\n",
       "    <tr>\n",
       "      <th>20488</th>\n",
       "      <td>ok just looks nice modern outside, desk staff ...</td>\n",
       "      <td>Negative</td>\n",
       "    </tr>\n",
       "    <tr>\n",
       "      <th>20489</th>\n",
       "      <td>hotel theft ruined vacation hotel opened sept ...</td>\n",
       "      <td>Negative</td>\n",
       "    </tr>\n",
       "    <tr>\n",
       "      <th>20490</th>\n",
       "      <td>people talking, ca n't believe excellent ratin...</td>\n",
       "      <td>Negative</td>\n",
       "    </tr>\n",
       "  </tbody>\n",
       "</table>\n",
       "<p>20491 rows × 2 columns</p>\n",
       "</div>"
      ],
      "text/plain": [
       "                                                  Review    Rating\n",
       "0      nice hotel expensive parking got good deal sta...  Positive\n",
       "1      ok nothing special charge diamond member hilto...  Negative\n",
       "2      nice rooms not 4* experience hotel monaco seat...   Neutral\n",
       "3      unique, great stay, wonderful time hotel monac...  Positive\n",
       "4      great stay great stay, went seahawk game aweso...  Positive\n",
       "...                                                  ...       ...\n",
       "20486  best kept secret 3rd time staying charm, not 5...  Positive\n",
       "20487  great location price view hotel great quick pl...  Positive\n",
       "20488  ok just looks nice modern outside, desk staff ...  Negative\n",
       "20489  hotel theft ruined vacation hotel opened sept ...  Negative\n",
       "20490  people talking, ca n't believe excellent ratin...  Negative\n",
       "\n",
       "[20491 rows x 2 columns]"
      ]
     },
     "execution_count": 16,
     "metadata": {},
     "output_type": "execute_result"
    }
   ],
   "source": [
    "df"
   ]
  },
  {
   "cell_type": "code",
   "execution_count": null,
   "id": "8f8c70a0-f13c-4896-9129-6c316ba77db1",
   "metadata": {},
   "outputs": [],
   "source": []
  },
  {
   "cell_type": "markdown",
   "id": "2305b207-5dce-4b40-8eb8-56f056c27fd5",
   "metadata": {},
   "source": [
    "### Splitting the Data into Train and Test"
   ]
  },
  {
   "cell_type": "code",
   "execution_count": 17,
   "id": "d6ac7668-9d71-4927-be2b-448e1fb7f98d",
   "metadata": {},
   "outputs": [],
   "source": [
    "#import splitting the Data module and Hyperparameter module\n",
    "from sklearn.model_selection import train_test_split,GridSearchCV"
   ]
  },
  {
   "cell_type": "code",
   "execution_count": 18,
   "id": "b9fe209e-dc1e-409c-9863-fd480208b5ed",
   "metadata": {},
   "outputs": [],
   "source": [
    "y = df.pop(\"Rating\") #divide the target column\n",
    "X= df\n",
    "X_train,X_test,y_train,y_test = train_test_split(X,y,stratify=y,test_size=0.3) #splitting the Data into train and test"
   ]
  },
  {
   "cell_type": "code",
   "execution_count": null,
   "id": "a8004656-d628-4c89-8437-7b31b4997b54",
   "metadata": {},
   "outputs": [],
   "source": []
  },
  {
   "cell_type": "markdown",
   "id": "4561741d-b322-456c-a0f6-adcf858bb601",
   "metadata": {},
   "source": [
    "### Data Preprocessing"
   ]
  },
  {
   "cell_type": "code",
   "execution_count": 19,
   "id": "d8d39032-fa11-45d8-a033-4fdc724d6150",
   "metadata": {},
   "outputs": [],
   "source": [
    "#Import the libraries which is related to text\n",
    "import re \n",
    "import nltk\n",
    "from nltk.corpus import stopwords\n",
    "from nltk.stem import WordNetLemmatizer\n",
    "from nltk.stem.porter import PorterStemmer\n",
    "import tqdm\n",
    "from tqdm import tqdm , tqdm_notebook\n",
    "tqdm.pandas()"
   ]
  },
  {
   "cell_type": "code",
   "execution_count": 20,
   "id": "51d7cbe7-0060-42eb-9a2c-dd31b367632a",
   "metadata": {},
   "outputs": [],
   "source": [
    "stemmer = PorterStemmer() #initialize with inbuilt stemmatization\n",
    "lemmatizer = WordNetLemmatizer() #initialize with inbuilt lemmatization\n",
    "\n",
    "\n",
    "def preproces(raw_text, flag):\n",
    "\n",
    "    sentence = re.sub(\"[^a-zA-Z]\",\" \",str(raw_text)) #Extraction the texy\n",
    "\n",
    "    sentence = sentence.lower() #Sentence into lower letters\n",
    "    \n",
    "    tokens = sentence.split() #split the sentence into tokens\n",
    "    \n",
    "    clean_tokens = [token for token in tokens if token not in stopwords.words(\"english\")] #remove the stopwords and keep the text is important\n",
    "\n",
    "    if flag.lower==\"stem\":\n",
    "        clean_tokens = [stemmer.stem(word) for word in clean_tokens] #apply stemmatization\n",
    "\n",
    "    else:\n",
    "        clean_tokens = [lemmatizer.lemmatize(word) for word in clean_tokens] #apply lemmatization\n",
    "\n",
    "    return pd.Series([\" \".join(clean_tokens),len(clean_tokens)] )\n",
    "    \n",
    "\n",
    "    "
   ]
  },
  {
   "cell_type": "code",
   "execution_count": 21,
   "id": "abc26d48-f21e-445d-ac35-8424079188ac",
   "metadata": {},
   "outputs": [
    {
     "name": "stderr",
     "output_type": "stream",
     "text": [
      "100%|████████████████████████████████████████████████████████████████████████████████████████████████████████████████████████████| 14343/14343 [09:09<00:00, 26.12it/s]\n"
     ]
    }
   ],
   "source": [
    "temp_df = X_train['Review'].progress_apply(lambda text : preproces(text, flag=\"lemma\")) #apply preprocess on train data"
   ]
  },
  {
   "cell_type": "code",
   "execution_count": 22,
   "id": "f04d8a01-437e-426f-9e9b-109f9e7ef308",
   "metadata": {},
   "outputs": [
    {
     "data": {
      "text/html": [
       "<div>\n",
       "<style scoped>\n",
       "    .dataframe tbody tr th:only-of-type {\n",
       "        vertical-align: middle;\n",
       "    }\n",
       "\n",
       "    .dataframe tbody tr th {\n",
       "        vertical-align: top;\n",
       "    }\n",
       "\n",
       "    .dataframe thead th {\n",
       "        text-align: right;\n",
       "    }\n",
       "</style>\n",
       "<table border=\"1\" class=\"dataframe\">\n",
       "  <thead>\n",
       "    <tr style=\"text-align: right;\">\n",
       "      <th></th>\n",
       "      <th>0</th>\n",
       "      <th>1</th>\n",
       "    </tr>\n",
       "  </thead>\n",
       "  <tbody>\n",
       "    <tr>\n",
       "      <th>5275</th>\n",
       "      <td>great value money stayed conveniently located ...</td>\n",
       "      <td>78</td>\n",
       "    </tr>\n",
       "    <tr>\n",
       "      <th>6328</th>\n",
       "      <td>great value perfect location read review hotel...</td>\n",
       "      <td>98</td>\n",
       "    </tr>\n",
       "    <tr>\n",
       "      <th>19334</th>\n",
       "      <td>nice expensive stayed night palomar impressed ...</td>\n",
       "      <td>276</td>\n",
       "    </tr>\n",
       "    <tr>\n",
       "      <th>14000</th>\n",
       "      <td>good place stay clean room friendly staff room...</td>\n",
       "      <td>34</td>\n",
       "    </tr>\n",
       "    <tr>\n",
       "      <th>8195</th>\n",
       "      <td>good value recently returned value money hotel...</td>\n",
       "      <td>35</td>\n",
       "    </tr>\n",
       "    <tr>\n",
       "      <th>...</th>\n",
       "      <td>...</td>\n",
       "      <td>...</td>\n",
       "    </tr>\n",
       "    <tr>\n",
       "      <th>1923</th>\n",
       "      <td>great city nice motel visiting family town lik...</td>\n",
       "      <td>77</td>\n",
       "    </tr>\n",
       "    <tr>\n",
       "      <th>1303</th>\n",
       "      <td>kahala perfection ocean read negative report h...</td>\n",
       "      <td>202</td>\n",
       "    </tr>\n",
       "    <tr>\n",
       "      <th>11867</th>\n",
       "      <td>great service great club lounge great service ...</td>\n",
       "      <td>110</td>\n",
       "    </tr>\n",
       "    <tr>\n",
       "      <th>17211</th>\n",
       "      <td>beautiful resort n return boyfriend visited ba...</td>\n",
       "      <td>506</td>\n",
       "    </tr>\n",
       "    <tr>\n",
       "      <th>3087</th>\n",
       "      <td>nice resort recommend royal service husband st...</td>\n",
       "      <td>238</td>\n",
       "    </tr>\n",
       "  </tbody>\n",
       "</table>\n",
       "<p>14343 rows × 2 columns</p>\n",
       "</div>"
      ],
      "text/plain": [
       "                                                       0    1\n",
       "5275   great value money stayed conveniently located ...   78\n",
       "6328   great value perfect location read review hotel...   98\n",
       "19334  nice expensive stayed night palomar impressed ...  276\n",
       "14000  good place stay clean room friendly staff room...   34\n",
       "8195   good value recently returned value money hotel...   35\n",
       "...                                                  ...  ...\n",
       "1923   great city nice motel visiting family town lik...   77\n",
       "1303   kahala perfection ocean read negative report h...  202\n",
       "11867  great service great club lounge great service ...  110\n",
       "17211  beautiful resort n return boyfriend visited ba...  506\n",
       "3087   nice resort recommend royal service husband st...  238\n",
       "\n",
       "[14343 rows x 2 columns]"
      ]
     },
     "execution_count": 22,
     "metadata": {},
     "output_type": "execute_result"
    }
   ],
   "source": [
    "temp_df"
   ]
  },
  {
   "cell_type": "code",
   "execution_count": 23,
   "id": "00bb21d4-95b8-4155-abeb-cb34575eb70c",
   "metadata": {},
   "outputs": [],
   "source": [
    "columns=[\"Clean_Review\",\"Len\"]\n",
    "temp_df.columns=columns"
   ]
  },
  {
   "cell_type": "code",
   "execution_count": 24,
   "id": "cc81b1a1-ea5f-4b27-948e-5efce0b70459",
   "metadata": {},
   "outputs": [
    {
     "data": {
      "text/html": [
       "<div>\n",
       "<style scoped>\n",
       "    .dataframe tbody tr th:only-of-type {\n",
       "        vertical-align: middle;\n",
       "    }\n",
       "\n",
       "    .dataframe tbody tr th {\n",
       "        vertical-align: top;\n",
       "    }\n",
       "\n",
       "    .dataframe thead th {\n",
       "        text-align: right;\n",
       "    }\n",
       "</style>\n",
       "<table border=\"1\" class=\"dataframe\">\n",
       "  <thead>\n",
       "    <tr style=\"text-align: right;\">\n",
       "      <th></th>\n",
       "      <th>Clean_Review</th>\n",
       "      <th>Len</th>\n",
       "    </tr>\n",
       "  </thead>\n",
       "  <tbody>\n",
       "    <tr>\n",
       "      <th>5275</th>\n",
       "      <td>great value money stayed conveniently located ...</td>\n",
       "      <td>78</td>\n",
       "    </tr>\n",
       "    <tr>\n",
       "      <th>6328</th>\n",
       "      <td>great value perfect location read review hotel...</td>\n",
       "      <td>98</td>\n",
       "    </tr>\n",
       "    <tr>\n",
       "      <th>19334</th>\n",
       "      <td>nice expensive stayed night palomar impressed ...</td>\n",
       "      <td>276</td>\n",
       "    </tr>\n",
       "    <tr>\n",
       "      <th>14000</th>\n",
       "      <td>good place stay clean room friendly staff room...</td>\n",
       "      <td>34</td>\n",
       "    </tr>\n",
       "    <tr>\n",
       "      <th>8195</th>\n",
       "      <td>good value recently returned value money hotel...</td>\n",
       "      <td>35</td>\n",
       "    </tr>\n",
       "  </tbody>\n",
       "</table>\n",
       "</div>"
      ],
      "text/plain": [
       "                                            Clean_Review  Len\n",
       "5275   great value money stayed conveniently located ...   78\n",
       "6328   great value perfect location read review hotel...   98\n",
       "19334  nice expensive stayed night palomar impressed ...  276\n",
       "14000  good place stay clean room friendly staff room...   34\n",
       "8195   good value recently returned value money hotel...   35"
      ]
     },
     "execution_count": 24,
     "metadata": {},
     "output_type": "execute_result"
    }
   ],
   "source": [
    "temp_df.head()"
   ]
  },
  {
   "cell_type": "code",
   "execution_count": 25,
   "id": "cf5e2246-9df8-44b2-b750-4452556697d1",
   "metadata": {},
   "outputs": [
    {
     "name": "stderr",
     "output_type": "stream",
     "text": [
      "100%|██████████████████████████████████████████████████████████████████████████████████████████████████████████████████████████████| 6148/6148 [03:42<00:00, 27.68it/s]\n"
     ]
    }
   ],
   "source": [
    "temp_df_test = X_test['Review'].progress_apply(lambda text : preproces(text, flag=\"lemma\")) #apply preprocess on test data"
   ]
  },
  {
   "cell_type": "code",
   "execution_count": 26,
   "id": "6612b8e0-f2de-4f90-9fa6-c1acc410d500",
   "metadata": {},
   "outputs": [],
   "source": [
    "columns=[\"Clean_Review\",\"Len\"]\n",
    "temp_df_test.columns=columns"
   ]
  },
  {
   "cell_type": "markdown",
   "id": "6bacf243-b554-474b-8fdb-3496de225f33",
   "metadata": {},
   "source": [
    "### Create Pipeline Archietecture"
   ]
  },
  {
   "cell_type": "code",
   "execution_count": 27,
   "id": "55244141-77b2-432c-bfe0-774cc5ede823",
   "metadata": {},
   "outputs": [],
   "source": [
    "#Import the libraries related to Building a Ml model\n",
    "from sklearn.pipeline import Pipeline\n",
    "from sklearn.naive_bayes import MultinomialNB\n",
    "from sklearn.feature_extraction.text import TfidfVectorizer \n",
    "from sklearn.linear_model import LogisticRegression\n",
    "from sklearn.tree import DecisionTreeClassifier\n",
    "from sklearn.ensemble import RandomForestClassifier\n",
    "from sklearn.neighbors import KNeighborsClassifier"
   ]
  },
  {
   "cell_type": "code",
   "execution_count": 28,
   "id": "a8459bee-407b-462b-b7d5-654250213200",
   "metadata": {},
   "outputs": [],
   "source": [
    "#Build a Pipeline model with appropriate classifier and text_preprocessor\n",
    "pipelines = {\n",
    "             \n",
    "             \"Naive Bayes\" : Pipeline(steps=[(\"vectorizer\",TfidfVectorizer()),\n",
    "                                     (\"Classifier\" , MultinomialNB())]),\n",
    "             \n",
    "             \"Decision Tree\": Pipeline(steps=[(\"vectorizer\",TfidfVectorizer()),\n",
    "                                              (\"Classifier\",DecisionTreeClassifier())]),\n",
    "             \n",
    "             \"Logistic Regression\": Pipeline(steps=[(\"vectorizer\",TfidfVectorizer()),\n",
    "                                     (\"Classifier\" , LogisticRegression())]),\n",
    "             \n",
    "             \"Random Forest\" : Pipeline(steps=[(\"vectorizer\",TfidfVectorizer()),\n",
    "                                     (\"Classifier\" , RandomForestClassifier())]),\n",
    "             \n",
    "            }\n"
   ]
  },
  {
   "cell_type": "code",
   "execution_count": 29,
   "id": "1a9861ae-e47b-4dcf-bced-ae76555f71f9",
   "metadata": {},
   "outputs": [],
   "source": [
    "#create a structure related to hyperparameters(param_grids) you are going to apply on your model\n",
    "#Note:-Due to my Laptop capacity and lack of Time I'm go with less no of parameters in param_grid(hyperparameters\n",
    "param_grids = { \"Decision Tree\":{\n",
    "                        \"Classifier__criterion\":[\"gini\", \"entropy\"],\n",
    "                        \"Classifier__max_depth\":[i for i in range(1,20,5)],\n",
    "                        \"Classifier__min_impurity_decrease\":[0.0,0.01,0.001]},\n",
    "               \"Naive Bayes\" :{\n",
    "                        \"Classifier__fit_prior\" :[True,False]},\n",
    "                \"Logistic Regression\":{\n",
    "                        \"Classifier__penalty\":['l1', 'l2', 'elasticnet'],\n",
    "                        \"Classifier__fit_intercept\":[True,False],\n",
    "                        \"Classifier__solver\":['lbfgs','saga']},\n",
    "               \"Random Forest\":{\n",
    "                        \"Classifier__criterion\":[\"gini\", \"entropy\",],\n",
    "                        \"Classifier__max_depth\":[i for i in range(1,20,5)]}\n",
    "    \n",
    "                }\n"
   ]
  },
  {
   "cell_type": "markdown",
   "id": "d34c5d70-ab35-4c98-ae55-03b96f378203",
   "metadata": {},
   "source": [
    "### Building the Model"
   ]
  },
  {
   "cell_type": "code",
   "execution_count": 31,
   "id": "eb3a4ffc-0034-44c0-bd1a-6c4d9341ca6b",
   "metadata": {},
   "outputs": [
    {
     "name": "stdout",
     "output_type": "stream",
     "text": [
      "********** Naive Bayes **********\n",
      "Fitting 3 folds for each of 2 candidates, totalling 6 fits\n",
      "Score on Test Data  0.7595966167859467\n",
      "********** Decision Tree **********\n",
      "Fitting 3 folds for each of 24 candidates, totalling 72 fits\n",
      "Score on Test Data  0.7807417046193884\n",
      "********** Logistic Regression **********\n",
      "Fitting 3 folds for each of 12 candidates, totalling 36 fits\n",
      "Score on Test Data  0.8567013662979831\n",
      "********** Random Forest **********\n",
      "Fitting 3 folds for each of 8 candidates, totalling 24 fits\n",
      "Score on Test Data  0.7394274560832791\n"
     ]
    }
   ],
   "source": [
    "#Build a Model\n",
    "best_model ={}\n",
    "for algorithm in pipelines.keys():\n",
    "    print(\"*\"*10, algorithm ,\"*\"*10)\n",
    "    grid_Search = GridSearchCV(estimator=pipelines[algorithm],\n",
    "                               param_grid=param_grids[algorithm],\n",
    "                               scoring=\"accuracy\",\n",
    "                               verbose=True,\n",
    "                               cv=3,\n",
    "                               return_train_score=False)\n",
    "    grid_Search.fit(temp_df['Clean_Review'],y_train)\n",
    "    best_model[algorithm] = grid_Search.best_estimator_\n",
    "    print(\"Score on Test Data \" , grid_Search.score(temp_df_test['Clean_Review'],y_test))\n",
    "    \n",
    "                       "
   ]
  },
  {
   "cell_type": "code",
   "execution_count": 33,
   "id": "29736612-ca3b-4fe5-845c-5a197b5ef62f",
   "metadata": {},
   "outputs": [],
   "source": [
    "Model = ['Naive Bayes','Decision Tree','Logistic Regression','Random Forest']\n",
    "Accuracy = [76,78,85,74]"
   ]
  },
  {
   "cell_type": "code",
   "execution_count": 43,
   "id": "5197b59f-b4c8-4c3a-b408-caa265fd620f",
   "metadata": {},
   "outputs": [
    {
     "data": {
      "image/png": "[encoded data removed]",
      "text/plain": [
       "<Figure size 640x480 with 1 Axes>"
      ]
     },
     "metadata": {},
     "output_type": "display_data"
    }
   ],
   "source": [
    "sns.barplot(x=Model,y=Accuracy)\n",
    "plt.xlabel(\"ML Algorithm\")\n",
    "plt.ylabel(\"Accuracy\")\n",
    "plt.xticks(rotation=0)\n",
    "plt.show()"
   ]
  },
  {
   "cell_type": "code",
   "execution_count": 44,
   "id": "ab043659-311a-41a0-a936-d47141cb8db8",
   "metadata": {},
   "outputs": [],
   "source": [
    "#Insights Out of all Model I'm Build Logistic Regression is Give Best Accuracy"
   ]
  },
  {
   "cell_type": "code",
   "execution_count": 45,
   "id": "bd0bdfe9-4a8f-4fbe-b317-3bed53dabbfa",
   "metadata": {},
   "outputs": [
    {
     "data": {
      "text/plain": [
       "{'Naive Bayes': Pipeline(steps=[('vectorizer', TfidfVectorizer()),\n",
       "                 ('Classifier', MultinomialNB(fit_prior=False))]),\n",
       " 'Decision Tree': Pipeline(steps=[('vectorizer', TfidfVectorizer()),\n",
       "                 ('Classifier',\n",
       "                  DecisionTreeClassifier(max_depth=16,\n",
       "                                         min_impurity_decrease=0.001))]),\n",
       " 'Logistic Regression': Pipeline(steps=[('vectorizer', TfidfVectorizer()),\n",
       "                 ('Classifier', LogisticRegression(fit_intercept=False))]),\n",
       " 'Random Forest': Pipeline(steps=[('vectorizer', TfidfVectorizer()),\n",
       "                 ('Classifier', RandomForestClassifier(max_depth=16))])}"
      ]
     },
     "execution_count": 45,
     "metadata": {},
     "output_type": "execute_result"
    }
   ],
   "source": [
    "best_model"
   ]
  },
  {
   "cell_type": "code",
   "execution_count": 53,
   "id": "c3a547a9-49b2-4950-a7dd-518355ecfdce",
   "metadata": {},
   "outputs": [
    {
     "name": "stdout",
     "output_type": "stream",
     "text": [
      "********** Naive Bayes **********\n",
      "Test Score (accuracy) 0.7595966167859467\n",
      "Model Size: 2898150 Bytes\n",
      "********** Decision Tree **********\n",
      "Test Score (accuracy) 0.7807417046193884\n",
      "Model Size: 1108840 Bytes\n",
      "********** Logistic Regression **********\n",
      "Test Score (accuracy) 0.8567013662979831\n",
      "Model Size: 2001153 Bytes\n",
      "********** Random Forest **********\n",
      "Test Score (accuracy) 0.7394274560832791\n",
      "Model Size: 5829050 Bytes\n"
     ]
    }
   ],
   "source": [
    "import os\n",
    "import joblib\n",
    "from sklearn import metrics\n",
    "for name,model in best_model.items():\n",
    "    print(\"*\"*10, name ,\"*\"*10)\n",
    "    joblib.dump(model,f\"C:/Users/Hello/Prudent technologies/Models/{name}.pkl\")\n",
    "    model = joblib.load(f\"C:/Users/Hello/Prudent technologies/Models/{name}.pkl\")\n",
    "    y_pred= model.predict(temp_df_test['Clean_Review'])\n",
    "    print(\"Test Score (accuracy)\", metrics.accuracy_score(y_test, y_pred))\n",
    "    print(\"Model Size:\", os.path.getsize(f\"C:/Users/Hello/Prudent technologies/Models/{name}.pkl\"), \"Bytes\")\n",
    "    \n",
    "    "
   ]
  }
 ],
 "metadata": {
  "kernelspec": {
   "display_name": "Python 3 (ipykernel)",
   "language": "python",
   "name": "python3"
  },
  "language_info": {
   "codemirror_mode": {
    "name": "ipython",
    "version": 3
   },
   "file_extension": ".py",
   "mimetype": "text/x-python",
   "name": "python",
   "nbconvert_exporter": "python",
   "pygments_lexer": "ipython3",
   "version": "3.11.3"
  }
 },
 "nbformat": 4,
 "nbformat_minor": 5
}
